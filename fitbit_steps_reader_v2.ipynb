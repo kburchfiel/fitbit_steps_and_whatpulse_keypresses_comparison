{
 "cells": [
  {
   "cell_type": "code",
   "execution_count": 1,
   "metadata": {},
   "outputs": [],
   "source": [
    "import time \n",
    "start_time = time.time() # Allows the program's runtime to be measured\n",
    "\n",
    "import os\n",
    "import pandas as pd\n",
    "import time\n",
    "import json\n",
    "import numpy as np\n",
    "import matplotlib.pyplot as plt\n",
    "\n"
   ]
  },
  {
   "cell_type": "code",
   "execution_count": 2,
   "metadata": {},
   "outputs": [
    {
     "name": "stdout",
     "output_type": "stream",
     "text": [
      "Now adding steps for steps-2020-01-19.json\n",
      "Now adding steps for steps-2020-02-18.json\n",
      "Now adding steps for steps-2020-03-19.json\n",
      "Now adding steps for steps-2020-04-18.json\n",
      "Now adding steps for steps-2020-05-18.json\n",
      "Now adding steps for steps-2020-06-17.json\n",
      "Now adding steps for steps-2020-07-17.json\n",
      "Now adding steps for steps-2020-08-16.json\n",
      "Now adding steps for steps-2020-09-15.json\n",
      "Now adding steps for steps-2020-10-15.json\n",
      "Now adding steps for steps-2020-11-14.json\n",
      "Now adding steps for steps-2020-12-14.json\n",
      "Now adding steps for steps-2021-01-13.json\n",
      "Now adding steps for steps-2021-02-12.json\n",
      "Now adding steps for steps-2021-03-14.json\n",
      "Now adding steps for steps-2021-04-13.json\n",
      "Now adding steps for steps-2021-05-13.json\n",
      "Now adding steps for steps-2021-06-12.json\n",
      "Now adding steps for steps-2021-07-12.json\n",
      "Now adding steps for steps-2021-08-11.json\n",
      "Now adding steps for steps-2021-09-10.json\n"
     ]
    }
   ],
   "source": [
    "folder_with_step_files = r'C:\\Users\\kburc\\D1V1\\Documents\\!Dell64docs\\!Organization\\fitbit_logs\\MyFitbitData\\KennethBurchfiel\\Physical Activity'\n",
    "\n",
    "os.chdir(folder_with_step_files)\n",
    "\n",
    "with open('combined_steps_file.json', \"w\") as destination_file: # Overwrites what had been in the file \n",
    "    # previously\n",
    "    destination_file.write('[')\n",
    "\n",
    "combined_steps_list = []\n",
    "\n",
    "path_list = []\n",
    "for dirpath, dirnames, filenames in os.walk(top=folder_with_step_files):\n",
    "    for name in filenames:\n",
    "        if (\"steps\" in name) and (\"combined\" not in name) and (\"daily\" not in name) and (\".png\" not in name): \n",
    "            # Thees statements exclude non-json files from being added to the document\n",
    "            print(\"Now adding steps for\",name)\n",
    "            with open(name) as source_file:\n",
    "                for line in source_file:\n",
    "                    combined_steps_list.append(line)"
   ]
  },
  {
   "cell_type": "code",
   "execution_count": 3,
   "metadata": {},
   "outputs": [
    {
     "name": "stdout",
     "output_type": "stream",
     "text": [
      "  \"value\" : \"0\"\n",
      "\n",
      "Condition met\n",
      "Condition met\n",
      "Condition met\n",
      "Condition met\n",
      "Condition met\n",
      "Condition met\n",
      "Condition met\n",
      "Condition met\n",
      "Condition met\n",
      "Condition met\n",
      "Condition met\n",
      "Condition met\n",
      "Condition met\n",
      "Condition met\n",
      "Condition met\n",
      "Condition met\n",
      "Condition met\n",
      "Condition met\n",
      "Condition met\n",
      "Condition met\n"
     ]
    }
   ],
   "source": [
    "len(combined_steps_list)\n",
    "print(combined_steps_list[2])\n",
    "\n",
    "# The following code looks for cases where one of the original .json files\n",
    "# ended and the other began. It then replaces the final line of the first \n",
    "# file ('}]') and the first line of the new file ('[{') with characters that\n",
    "# match the regular separation between entries (},{). In doing so, the \n",
    "# resulting file (combined_steps_list) will be seen as one large .json file\n",
    "# rather than a series of individual files. \n",
    "\n",
    "os.chdir(folder_with_step_files)\n",
    "\n",
    "with open('combined_steps_file.json', 'w') as file:\n",
    "    for i in range(len(combined_steps_list)):\n",
    "        if i != (len(combined_steps_list) -1):\n",
    "            if ((combined_steps_list[i] == '}]') and\n",
    "            (combined_steps_list[i+1].strip() == '[{')):\n",
    "                # There was a 3rd character, probably a space, in these lines, hence the use of the strip() function.\n",
    "                print('Condition met')\n",
    "                combined_steps_list[i] = '},'\n",
    "                combined_steps_list[i+1] = '{'\n",
    "\n",
    "        file.write(combined_steps_list[i])"
   ]
  },
  {
   "cell_type": "code",
   "execution_count": 5,
   "metadata": {},
   "outputs": [
    {
     "name": "stdout",
     "output_type": "stream",
     "text": [
      "C:\\Users\\kburc\\D1V1\\Documents\\!Dell64docs\\!Organization\\fitbit_logs\\MyFitbitData\\KennethBurchfiel\\Physical Activity\n"
     ]
    },
    {
     "data": {
      "text/html": [
       "<div>\n",
       "<style scoped>\n",
       "    .dataframe tbody tr th:only-of-type {\n",
       "        vertical-align: middle;\n",
       "    }\n",
       "\n",
       "    .dataframe tbody tr th {\n",
       "        vertical-align: top;\n",
       "    }\n",
       "\n",
       "    .dataframe thead th {\n",
       "        text-align: right;\n",
       "    }\n",
       "</style>\n",
       "<table border=\"1\" class=\"dataframe\">\n",
       "  <thead>\n",
       "    <tr style=\"text-align: right;\">\n",
       "      <th></th>\n",
       "      <th>dateTime</th>\n",
       "      <th>value</th>\n",
       "    </tr>\n",
       "  </thead>\n",
       "  <tbody>\n",
       "    <tr>\n",
       "      <th>0</th>\n",
       "      <td>2020-01-20 19:05:00</td>\n",
       "      <td>0</td>\n",
       "    </tr>\n",
       "    <tr>\n",
       "      <th>1</th>\n",
       "      <td>2020-01-20 19:38:00</td>\n",
       "      <td>0</td>\n",
       "    </tr>\n",
       "    <tr>\n",
       "      <th>2</th>\n",
       "      <td>2020-01-20 19:39:00</td>\n",
       "      <td>0</td>\n",
       "    </tr>\n",
       "    <tr>\n",
       "      <th>3</th>\n",
       "      <td>2020-01-20 19:40:00</td>\n",
       "      <td>0</td>\n",
       "    </tr>\n",
       "    <tr>\n",
       "      <th>4</th>\n",
       "      <td>2020-01-20 19:41:00</td>\n",
       "      <td>61</td>\n",
       "    </tr>\n",
       "    <tr>\n",
       "      <th>...</th>\n",
       "      <td>...</td>\n",
       "      <td>...</td>\n",
       "    </tr>\n",
       "    <tr>\n",
       "      <th>529251</th>\n",
       "      <td>2021-09-16 18:26:00</td>\n",
       "      <td>0</td>\n",
       "    </tr>\n",
       "    <tr>\n",
       "      <th>529252</th>\n",
       "      <td>2021-09-16 18:27:00</td>\n",
       "      <td>0</td>\n",
       "    </tr>\n",
       "    <tr>\n",
       "      <th>529253</th>\n",
       "      <td>2021-09-16 18:28:00</td>\n",
       "      <td>0</td>\n",
       "    </tr>\n",
       "    <tr>\n",
       "      <th>529254</th>\n",
       "      <td>2021-09-16 18:29:00</td>\n",
       "      <td>0</td>\n",
       "    </tr>\n",
       "    <tr>\n",
       "      <th>529255</th>\n",
       "      <td>2021-09-16 18:30:00</td>\n",
       "      <td>0</td>\n",
       "    </tr>\n",
       "  </tbody>\n",
       "</table>\n",
       "<p>529256 rows × 2 columns</p>\n",
       "</div>"
      ],
      "text/plain": [
       "                  dateTime  value\n",
       "0      2020-01-20 19:05:00      0\n",
       "1      2020-01-20 19:38:00      0\n",
       "2      2020-01-20 19:39:00      0\n",
       "3      2020-01-20 19:40:00      0\n",
       "4      2020-01-20 19:41:00     61\n",
       "...                    ...    ...\n",
       "529251 2021-09-16 18:26:00      0\n",
       "529252 2021-09-16 18:27:00      0\n",
       "529253 2021-09-16 18:28:00      0\n",
       "529254 2021-09-16 18:29:00      0\n",
       "529255 2021-09-16 18:30:00      0\n",
       "\n",
       "[529256 rows x 2 columns]"
      ]
     },
     "execution_count": 5,
     "metadata": {},
     "output_type": "execute_result"
    }
   ],
   "source": [
    "print(os.getcwd())\n",
    "path = 'combined_steps_file.json'\n",
    "df_steps = pd.io.json.read_json(path) \n",
    "# https://pandas.pydata.org/docs/reference/api/pandas.io.json.read_json.html\n",
    "df_steps\n",
    "    "
   ]
  },
  {
   "cell_type": "code",
   "execution_count": 6,
   "metadata": {},
   "outputs": [
    {
     "data": {
      "text/html": [
       "<div>\n",
       "<style scoped>\n",
       "    .dataframe tbody tr th:only-of-type {\n",
       "        vertical-align: middle;\n",
       "    }\n",
       "\n",
       "    .dataframe tbody tr th {\n",
       "        vertical-align: top;\n",
       "    }\n",
       "\n",
       "    .dataframe thead th {\n",
       "        text-align: right;\n",
       "    }\n",
       "</style>\n",
       "<table border=\"1\" class=\"dataframe\">\n",
       "  <thead>\n",
       "    <tr style=\"text-align: right;\">\n",
       "      <th></th>\n",
       "      <th>value</th>\n",
       "    </tr>\n",
       "    <tr>\n",
       "      <th>dateTime</th>\n",
       "      <th></th>\n",
       "    </tr>\n",
       "  </thead>\n",
       "  <tbody>\n",
       "    <tr>\n",
       "      <th>2020-01-20</th>\n",
       "      <td>166</td>\n",
       "    </tr>\n",
       "    <tr>\n",
       "      <th>2020-01-21</th>\n",
       "      <td>4324</td>\n",
       "    </tr>\n",
       "    <tr>\n",
       "      <th>2020-01-22</th>\n",
       "      <td>7259</td>\n",
       "    </tr>\n",
       "    <tr>\n",
       "      <th>2020-01-23</th>\n",
       "      <td>8154</td>\n",
       "    </tr>\n",
       "    <tr>\n",
       "      <th>2020-01-24</th>\n",
       "      <td>15363</td>\n",
       "    </tr>\n",
       "    <tr>\n",
       "      <th>...</th>\n",
       "      <td>...</td>\n",
       "    </tr>\n",
       "    <tr>\n",
       "      <th>2021-09-12</th>\n",
       "      <td>12818</td>\n",
       "    </tr>\n",
       "    <tr>\n",
       "      <th>2021-09-13</th>\n",
       "      <td>14098</td>\n",
       "    </tr>\n",
       "    <tr>\n",
       "      <th>2021-09-14</th>\n",
       "      <td>15125</td>\n",
       "    </tr>\n",
       "    <tr>\n",
       "      <th>2021-09-15</th>\n",
       "      <td>8196</td>\n",
       "    </tr>\n",
       "    <tr>\n",
       "      <th>2021-09-16</th>\n",
       "      <td>4282</td>\n",
       "    </tr>\n",
       "  </tbody>\n",
       "</table>\n",
       "<p>606 rows × 1 columns</p>\n",
       "</div>"
      ],
      "text/plain": [
       "            value\n",
       "dateTime         \n",
       "2020-01-20    166\n",
       "2020-01-21   4324\n",
       "2020-01-22   7259\n",
       "2020-01-23   8154\n",
       "2020-01-24  15363\n",
       "...           ...\n",
       "2021-09-12  12818\n",
       "2021-09-13  14098\n",
       "2021-09-14  15125\n",
       "2021-09-15   8196\n",
       "2021-09-16   4282\n",
       "\n",
       "[606 rows x 1 columns]"
      ]
     },
     "execution_count": 6,
     "metadata": {},
     "output_type": "execute_result"
    }
   ],
   "source": [
    "df_daily_steps = df_steps.resample('D',on='dateTime').sum()\n",
    "df_daily_steps"
   ]
  },
  {
   "cell_type": "code",
   "execution_count": 19,
   "metadata": {},
   "outputs": [
    {
     "data": {
      "text/html": [
       "<div>\n",
       "<style scoped>\n",
       "    .dataframe tbody tr th:only-of-type {\n",
       "        vertical-align: middle;\n",
       "    }\n",
       "\n",
       "    .dataframe tbody tr th {\n",
       "        vertical-align: top;\n",
       "    }\n",
       "\n",
       "    .dataframe thead th {\n",
       "        text-align: right;\n",
       "    }\n",
       "</style>\n",
       "<table border=\"1\" class=\"dataframe\">\n",
       "  <thead>\n",
       "    <tr style=\"text-align: right;\">\n",
       "      <th></th>\n",
       "      <th>steps</th>\n",
       "      <th>7_day_avg</th>\n",
       "    </tr>\n",
       "    <tr>\n",
       "      <th>Date</th>\n",
       "      <th></th>\n",
       "      <th></th>\n",
       "    </tr>\n",
       "  </thead>\n",
       "  <tbody>\n",
       "    <tr>\n",
       "      <th>2020-04-19</th>\n",
       "      <td>0</td>\n",
       "      <td>3397.000000</td>\n",
       "    </tr>\n",
       "    <tr>\n",
       "      <th>2020-04-20</th>\n",
       "      <td>0</td>\n",
       "      <td>2198.142857</td>\n",
       "    </tr>\n",
       "    <tr>\n",
       "      <th>2020-04-21</th>\n",
       "      <td>0</td>\n",
       "      <td>1367.857143</td>\n",
       "    </tr>\n",
       "    <tr>\n",
       "      <th>2020-01-20</th>\n",
       "      <td>166</td>\n",
       "      <td>NaN</td>\n",
       "    </tr>\n",
       "    <tr>\n",
       "      <th>2020-04-17</th>\n",
       "      <td>476</td>\n",
       "      <td>5647.142857</td>\n",
       "    </tr>\n",
       "    <tr>\n",
       "      <th>...</th>\n",
       "      <td>...</td>\n",
       "      <td>...</td>\n",
       "    </tr>\n",
       "    <tr>\n",
       "      <th>2021-06-06</th>\n",
       "      <td>21352</td>\n",
       "      <td>11141.428571</td>\n",
       "    </tr>\n",
       "    <tr>\n",
       "      <th>2021-05-01</th>\n",
       "      <td>21591</td>\n",
       "      <td>15279.000000</td>\n",
       "    </tr>\n",
       "    <tr>\n",
       "      <th>2021-06-27</th>\n",
       "      <td>22691</td>\n",
       "      <td>9155.285714</td>\n",
       "    </tr>\n",
       "    <tr>\n",
       "      <th>2021-04-30</th>\n",
       "      <td>23897</td>\n",
       "      <td>13136.285714</td>\n",
       "    </tr>\n",
       "    <tr>\n",
       "      <th>2021-04-29</th>\n",
       "      <td>26389</td>\n",
       "      <td>11542.571429</td>\n",
       "    </tr>\n",
       "  </tbody>\n",
       "</table>\n",
       "<p>606 rows × 2 columns</p>\n",
       "</div>"
      ],
      "text/plain": [
       "            steps     7_day_avg\n",
       "Date                           \n",
       "2020-04-19      0   3397.000000\n",
       "2020-04-20      0   2198.142857\n",
       "2020-04-21      0   1367.857143\n",
       "2020-01-20    166           NaN\n",
       "2020-04-17    476   5647.142857\n",
       "...           ...           ...\n",
       "2021-06-06  21352  11141.428571\n",
       "2021-05-01  21591  15279.000000\n",
       "2021-06-27  22691   9155.285714\n",
       "2021-04-30  23897  13136.285714\n",
       "2021-04-29  26389  11542.571429\n",
       "\n",
       "[606 rows x 2 columns]"
      ]
     },
     "execution_count": 19,
     "metadata": {},
     "output_type": "execute_result"
    }
   ],
   "source": [
    "df_daily_steps.sort_values('steps')"
   ]
  },
  {
   "cell_type": "code",
   "execution_count": 7,
   "metadata": {},
   "outputs": [
    {
     "data": {
      "text/html": [
       "<div>\n",
       "<style scoped>\n",
       "    .dataframe tbody tr th:only-of-type {\n",
       "        vertical-align: middle;\n",
       "    }\n",
       "\n",
       "    .dataframe tbody tr th {\n",
       "        vertical-align: top;\n",
       "    }\n",
       "\n",
       "    .dataframe thead th {\n",
       "        text-align: right;\n",
       "    }\n",
       "</style>\n",
       "<table border=\"1\" class=\"dataframe\">\n",
       "  <thead>\n",
       "    <tr style=\"text-align: right;\">\n",
       "      <th></th>\n",
       "      <th>steps</th>\n",
       "      <th>7_day_avg</th>\n",
       "    </tr>\n",
       "    <tr>\n",
       "      <th>Date</th>\n",
       "      <th></th>\n",
       "      <th></th>\n",
       "    </tr>\n",
       "  </thead>\n",
       "  <tbody>\n",
       "    <tr>\n",
       "      <th>2020-01-20</th>\n",
       "      <td>166</td>\n",
       "      <td>NaN</td>\n",
       "    </tr>\n",
       "    <tr>\n",
       "      <th>2020-01-21</th>\n",
       "      <td>4324</td>\n",
       "      <td>NaN</td>\n",
       "    </tr>\n",
       "    <tr>\n",
       "      <th>2020-01-22</th>\n",
       "      <td>7259</td>\n",
       "      <td>NaN</td>\n",
       "    </tr>\n",
       "    <tr>\n",
       "      <th>2020-01-23</th>\n",
       "      <td>8154</td>\n",
       "      <td>NaN</td>\n",
       "    </tr>\n",
       "    <tr>\n",
       "      <th>2020-01-24</th>\n",
       "      <td>15363</td>\n",
       "      <td>NaN</td>\n",
       "    </tr>\n",
       "    <tr>\n",
       "      <th>...</th>\n",
       "      <td>...</td>\n",
       "      <td>...</td>\n",
       "    </tr>\n",
       "    <tr>\n",
       "      <th>2021-09-12</th>\n",
       "      <td>12818</td>\n",
       "      <td>11290.857143</td>\n",
       "    </tr>\n",
       "    <tr>\n",
       "      <th>2021-09-13</th>\n",
       "      <td>14098</td>\n",
       "      <td>11986.714286</td>\n",
       "    </tr>\n",
       "    <tr>\n",
       "      <th>2021-09-14</th>\n",
       "      <td>15125</td>\n",
       "      <td>11664.428571</td>\n",
       "    </tr>\n",
       "    <tr>\n",
       "      <th>2021-09-15</th>\n",
       "      <td>8196</td>\n",
       "      <td>12151.142857</td>\n",
       "    </tr>\n",
       "    <tr>\n",
       "      <th>2021-09-16</th>\n",
       "      <td>4282</td>\n",
       "      <td>10652.428571</td>\n",
       "    </tr>\n",
       "  </tbody>\n",
       "</table>\n",
       "<p>606 rows × 2 columns</p>\n",
       "</div>"
      ],
      "text/plain": [
       "            steps     7_day_avg\n",
       "Date                           \n",
       "2020-01-20    166           NaN\n",
       "2020-01-21   4324           NaN\n",
       "2020-01-22   7259           NaN\n",
       "2020-01-23   8154           NaN\n",
       "2020-01-24  15363           NaN\n",
       "...           ...           ...\n",
       "2021-09-12  12818  11290.857143\n",
       "2021-09-13  14098  11986.714286\n",
       "2021-09-14  15125  11664.428571\n",
       "2021-09-15   8196  12151.142857\n",
       "2021-09-16   4282  10652.428571\n",
       "\n",
       "[606 rows x 2 columns]"
      ]
     },
     "execution_count": 7,
     "metadata": {},
     "output_type": "execute_result"
    }
   ],
   "source": [
    "df_daily_steps['7_day_avg'] = df_daily_steps.rolling(7).mean()\n",
    "df_daily_steps.rename(columns={'value':'steps'},inplace=True)\n",
    "df_daily_steps.index.rename('Date',inplace=True)\n",
    "df_daily_steps.to_csv('daily_steps.csv')\n",
    "df_daily_steps"
   ]
  },
  {
   "cell_type": "code",
   "execution_count": 8,
   "metadata": {},
   "outputs": [],
   "source": [
    "df_weekly_steps = df_steps.resample('W',on='dateTime').sum()\n",
    "# See https://pandas.pydata.org/pandas-docs/stable/reference/api/pandas.Series.resample.html#pandas.Series.resample"
   ]
  },
  {
   "cell_type": "code",
   "execution_count": 9,
   "metadata": {},
   "outputs": [
    {
     "data": {
      "text/html": [
       "<div>\n",
       "<style scoped>\n",
       "    .dataframe tbody tr th:only-of-type {\n",
       "        vertical-align: middle;\n",
       "    }\n",
       "\n",
       "    .dataframe tbody tr th {\n",
       "        vertical-align: top;\n",
       "    }\n",
       "\n",
       "    .dataframe thead th {\n",
       "        text-align: right;\n",
       "    }\n",
       "</style>\n",
       "<table border=\"1\" class=\"dataframe\">\n",
       "  <thead>\n",
       "    <tr style=\"text-align: right;\">\n",
       "      <th></th>\n",
       "      <th>value</th>\n",
       "    </tr>\n",
       "    <tr>\n",
       "      <th>dateTime</th>\n",
       "      <th></th>\n",
       "    </tr>\n",
       "  </thead>\n",
       "  <tbody>\n",
       "    <tr>\n",
       "      <th>2020-01-26</th>\n",
       "      <td>57359</td>\n",
       "    </tr>\n",
       "    <tr>\n",
       "      <th>2020-02-02</th>\n",
       "      <td>77256</td>\n",
       "    </tr>\n",
       "    <tr>\n",
       "      <th>2020-02-09</th>\n",
       "      <td>48192</td>\n",
       "    </tr>\n",
       "    <tr>\n",
       "      <th>2020-02-16</th>\n",
       "      <td>34599</td>\n",
       "    </tr>\n",
       "    <tr>\n",
       "      <th>2020-02-23</th>\n",
       "      <td>53174</td>\n",
       "    </tr>\n",
       "    <tr>\n",
       "      <th>...</th>\n",
       "      <td>...</td>\n",
       "    </tr>\n",
       "    <tr>\n",
       "      <th>2021-08-22</th>\n",
       "      <td>64729</td>\n",
       "    </tr>\n",
       "    <tr>\n",
       "      <th>2021-08-29</th>\n",
       "      <td>66970</td>\n",
       "    </tr>\n",
       "    <tr>\n",
       "      <th>2021-09-05</th>\n",
       "      <td>74726</td>\n",
       "    </tr>\n",
       "    <tr>\n",
       "      <th>2021-09-12</th>\n",
       "      <td>79036</td>\n",
       "    </tr>\n",
       "    <tr>\n",
       "      <th>2021-09-19</th>\n",
       "      <td>41701</td>\n",
       "    </tr>\n",
       "  </tbody>\n",
       "</table>\n",
       "<p>87 rows × 1 columns</p>\n",
       "</div>"
      ],
      "text/plain": [
       "            value\n",
       "dateTime         \n",
       "2020-01-26  57359\n",
       "2020-02-02  77256\n",
       "2020-02-09  48192\n",
       "2020-02-16  34599\n",
       "2020-02-23  53174\n",
       "...           ...\n",
       "2021-08-22  64729\n",
       "2021-08-29  66970\n",
       "2021-09-05  74726\n",
       "2021-09-12  79036\n",
       "2021-09-19  41701\n",
       "\n",
       "[87 rows x 1 columns]"
      ]
     },
     "execution_count": 9,
     "metadata": {},
     "output_type": "execute_result"
    }
   ],
   "source": [
    "df_weekly_steps"
   ]
  },
  {
   "cell_type": "code",
   "execution_count": 10,
   "metadata": {},
   "outputs": [
    {
     "data": {
      "text/plain": [
       "87"
      ]
     },
     "execution_count": 10,
     "metadata": {},
     "output_type": "execute_result"
    }
   ],
   "source": [
    "len(df_weekly_steps)"
   ]
  },
  {
   "cell_type": "code",
   "execution_count": 11,
   "metadata": {},
   "outputs": [],
   "source": [
    "formatted_dates = []\n",
    "for i in range(len(df_weekly_steps)):\n",
    "    formatted_dates.append(df_weekly_steps.index[i].strftime(\"%Y-%m-%d\"))\n",
    "# formatted_dates"
   ]
  },
  {
   "cell_type": "code",
   "execution_count": 12,
   "metadata": {},
   "outputs": [
    {
     "data": {
      "image/png": "[encoded data removed]",
      "text/plain": [
       "<Figure size 2160x648 with 1 Axes>"
      ]
     },
     "metadata": {},
     "output_type": "display_data"
    }
   ],
   "source": [
    "fig, ax = plt.subplots(figsize=[30,9])\n",
    "fig.set_facecolor('white')\n",
    "xrange = np.arange(len(df_weekly_steps))\n",
    "weekly_step_graph = plt.bar(x = xrange, height=df_weekly_steps['value']) # df_weekly_steps.index can also be used in place of x, but this messes with the chart's appearance\n",
    "plt.xticks(np.arange(len(df_weekly_steps)), formatted_dates, rotation=80) # https://matplotlib.org/stable/api/_as_gen/matplotlib.pyplot.xticks.html\n",
    "\n",
    "plt.savefig('weekly_steps.png',dpi=400)"
   ]
  },
  {
   "cell_type": "code",
   "execution_count": 13,
   "metadata": {},
   "outputs": [
    {
     "data": {
      "image/png": "[encoded data removed]",
      "text/plain": [
       "<Figure size 720x360 with 1 Axes>"
      ]
     },
     "metadata": {},
     "output_type": "display_data"
    }
   ],
   "source": [
    "fig, ax = plt.subplots(figsize=[10,5])\n",
    "weekly_step_graph = plt.plot(df_daily_steps['7_day_avg']) # df_weekly_steps.index can also be used in place of x, but this messes with the chart's appearance\n",
    "fig.set_facecolor('white')\n",
    "plt.xticks(rotation=45)\n",
    "plt.savefig('7_day_rolling_step_average.png',dpi=400)"
   ]
  },
  {
   "cell_type": "markdown",
   "metadata": {},
   "source": []
  },
  {
   "cell_type": "code",
   "execution_count": 14,
   "metadata": {},
   "outputs": [
    {
     "data": {
      "text/plain": [
       "[<matplotlib.lines.Line2D at 0x1915a62b8b0>,\n",
       " <matplotlib.lines.Line2D at 0x19100903fd0>]"
      ]
     },
     "execution_count": 14,
     "metadata": {},
     "output_type": "execute_result"
    },
    {
     "data": {
      "image/png": "[encoded data removed]",
      "text/plain": [
       "<Figure size 432x288 with 1 Axes>"
      ]
     },
     "metadata": {
      "needs_background": "light"
     },
     "output_type": "display_data"
    }
   ],
   "source": [
    "plt.plot(df_daily_steps)"
   ]
  },
  {
   "cell_type": "code",
   "execution_count": 15,
   "metadata": {},
   "outputs": [
    {
     "name": "stdout",
     "output_type": "stream",
     "text": [
      "4133525\n"
     ]
    }
   ],
   "source": [
    "print(sum(df_steps['value']))"
   ]
  },
  {
   "cell_type": "code",
   "execution_count": 16,
   "metadata": {},
   "outputs": [
    {
     "name": "stdout",
     "output_type": "stream",
     "text": [
      "Completed run at Wed Oct 13 18:27:41 2021 (local time)\n",
      "Total run time: 56.80 second(s) (0.0 minute(s) and 56.80 second(s))\n"
     ]
    }
   ],
   "source": [
    "end_time = time.time()\n",
    "run_time = end_time - start_time\n",
    "run_minutes = run_time // 60\n",
    "run_seconds = run_time % 60\n",
    "print(\"Completed run at\",time.ctime(end_time),\"(local time)\")\n",
    "print(\"Total run time:\",'{:.2f}'.format(run_time),\"second(s) (\"+str(run_minutes),\"minute(s) and\",'{:.2f}'.format(run_seconds),\"second(s))\") # Only meaningful when the program is run nonstop from start to finish"
   ]
  }
 ],
 "metadata": {
  "interpreter": {
   "hash": "7a016a462c2a18f177a2554c94a9e2d8b52c0ae6e623363f8138b3d5b2656021"
  },
  "kernelspec": {
   "display_name": "Python 3.9.5 64-bit ('ga15pyd': conda)",
   "name": "python3"
  },
  "language_info": {
   "codemirror_mode": {
    "name": "ipython",
    "version": 3
   },
   "file_extension": ".py",
   "mimetype": "text/x-python",
   "name": "python",
   "nbconvert_exporter": "python",
   "pygments_lexer": "ipython3",
   "version": "3.9.5"
  },
  "orig_nbformat": 4
 },
 "nbformat": 4,
 "nbformat_minor": 2
}
